{
 "cells": [
  {
   "cell_type": "code",
   "execution_count": null,
   "id": "a3af50a9-0b0f-4c34-bed8-5c3bfdd13913",
   "metadata": {},
   "outputs": [],
   "source": [
    "w=int(input())\n",
    "h=float(input())\n",
    "bmi =round( w/(h*h), 2)\n",
    "\n",
    "#print(\"your body index is \" + str(bmi))\n",
    "print(f\"your body index is {bmi}\")\n"
   ]
  }
 ],
 "metadata": {
  "kernelspec": {
   "display_name": "Python 3 (ipykernel)",
   "language": "python",
   "name": "python3"
  },
  "language_info": {
   "codemirror_mode": {
    "name": "ipython",
    "version": 3
   },
   "file_extension": ".py",
   "mimetype": "text/x-python",
   "name": "python",
   "nbconvert_exporter": "python",
   "pygments_lexer": "ipython3",
   "version": "3.9.12"
  }
 },
 "nbformat": 4,
 "nbformat_minor": 5
}
