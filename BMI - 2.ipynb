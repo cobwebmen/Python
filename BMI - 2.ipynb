{
 "cells": [
  {
   "cell_type": "code",
   "execution_count": null,
   "id": "30de76b0-4870-4da9-bef4-a0dc5d31d7f8",
   "metadata": {},
   "outputs": [],
   "source": [
    "# Enter your height in meters e.g., 1.55\n",
    "height = float(input())\n",
    "# Enter your weight in kilograms e.g., 72\n",
    "weight = int(input())\n",
    "# 🚨 Don't change the code above 👆\n",
    "\n",
    "#Write your code below this line 👇\n",
    "BMI = weight / (height*height)\n",
    "if BMI < 18.5:\n",
    "  print(f\"Your BMI is {BMI}, you are underweight.\")\n",
    "elif BMI < 25:\n",
    "  print(f\"Your BMI is {BMI}, you have a normal weight.\")\n",
    "elif BMI < 30:\n",
    "  print(f\"Your BMI is {BMI}, you are slightly overweight.\")\n",
    "elif BMI < 35:\n",
    "  print(f\"Your BMI is {BMI}, you are obese.\")\n",
    "else:\n",
    "  print(f\"Your BMI is {BMI}, you are clinically obese.\")"
   ]
  }
 ],
 "metadata": {
  "kernelspec": {
   "display_name": "Python 3 (ipykernel)",
   "language": "python",
   "name": "python3"
  },
  "language_info": {
   "codemirror_mode": {
    "name": "ipython",
    "version": 3
   },
   "file_extension": ".py",
   "mimetype": "text/x-python",
   "name": "python",
   "nbconvert_exporter": "python",
   "pygments_lexer": "ipython3",
   "version": "3.9.12"
  }
 },
 "nbformat": 4,
 "nbformat_minor": 5
}
