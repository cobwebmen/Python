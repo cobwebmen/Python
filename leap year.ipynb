{
 "cells": [
  {
   "cell_type": "code",
   "execution_count": 2,
   "id": "3a9db4ab-cad2-408b-b92e-29eabd8ff0ca",
   "metadata": {},
   "outputs": [
    {
     "name": "stdin",
     "output_type": "stream",
     "text": [
      " 2401\n"
     ]
    },
    {
     "name": "stdout",
     "output_type": "stream",
     "text": [
      "not leap year\n"
     ]
    }
   ],
   "source": [
    "year = int(input())\n",
    "\n",
    "\n",
    "if year % 4 == 0:\n",
    "    if year % 100 ==0:\n",
    "        if year % 400 == 0:\n",
    "            print (\"Leap year\")\n",
    "        else:\n",
    "            print (\"not leap year\")\n",
    "    else:\n",
    "        print (\"Leap year\")\n",
    "else:\n",
    "    print (\"not leap year\")"
   ]
  },
  {
   "cell_type": "code",
   "execution_count": null,
   "id": "9fec3409-d716-447e-8a2d-7f6dc99c72f6",
   "metadata": {},
   "outputs": [],
   "source": []
  }
 ],
 "metadata": {
  "kernelspec": {
   "display_name": "Python 3 (ipykernel)",
   "language": "python",
   "name": "python3"
  },
  "language_info": {
   "codemirror_mode": {
    "name": "ipython",
    "version": 3
   },
   "file_extension": ".py",
   "mimetype": "text/x-python",
   "name": "python",
   "nbconvert_exporter": "python",
   "pygments_lexer": "ipython3",
   "version": "3.9.12"
  }
 },
 "nbformat": 4,
 "nbformat_minor": 5
}
