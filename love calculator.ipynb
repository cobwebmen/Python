{
 "cells": [
  {
   "cell_type": "code",
   "execution_count": null,
   "id": "9c5db970-65c1-4c4b-a5b7-10165ab9b4b7",
   "metadata": {},
   "outputs": [],
   "source": [
    "print(\"The Love Calculator is calculating your score...\")\n",
    "name1 = input()  # What is your name?\n",
    "name2 = input()  # What is their name?\n",
    "\n",
    "combined_names = name1 + name2\n",
    "lower_names = combined_names.lower()\n",
    "t = lower_names.count(\"t\")\n",
    "r = lower_names.count(\"r\")\n",
    "u = lower_names.count(\"u\")\n",
    "e = lower_names.count(\"e\")\n",
    "first_digit = t + r + u + e\n",
    "\n",
    "l = lower_names.count(\"l\")\n",
    "o = lower_names.count(\"o\")\n",
    "v = lower_names.count(\"v\")\n",
    "e = lower_names.count(\"e\")\n",
    "second_digit = l + o + v + e\n",
    "\n",
    "score = int(str(first_digit) + str(second_digit))\n",
    "if (score < 10) or (score > 90):\n",
    "  print(f\"Your score is {score}, you go together like coke and mentos.\")\n",
    "elif (score >= 40) and (score <= 50):\n",
    "  print(f\"Your score is {score}, you are alright together.\")\n",
    "else:\n",
    "  print(f\"Your score is {score}.\")\n",
    "\n"
   ]
  }
 ],
 "metadata": {
  "kernelspec": {
   "display_name": "Python 3 (ipykernel)",
   "language": "python",
   "name": "python3"
  },
  "language_info": {
   "codemirror_mode": {
    "name": "ipython",
    "version": 3
   },
   "file_extension": ".py",
   "mimetype": "text/x-python",
   "name": "python",
   "nbconvert_exporter": "python",
   "pygments_lexer": "ipython3",
   "version": "3.9.12"
  }
 },
 "nbformat": 4,
 "nbformat_minor": 5
}
