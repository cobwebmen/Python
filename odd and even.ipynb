{
 "cells": [
  {
   "cell_type": "code",
   "execution_count": 4,
   "id": "83e2cdb8-39fe-44ed-ab2e-a4ec0c7169c9",
   "metadata": {},
   "outputs": [
    {
     "name": "stdin",
     "output_type": "stream",
     "text": [
      "give me a number 4\n"
     ]
    },
    {
     "name": "stdout",
     "output_type": "stream",
     "text": [
      "your number is even\n"
     ]
    }
   ],
   "source": [
    "number = int(input(\"give me a number\"))\n",
    "if number % 2 == 0:\n",
    "    print(\"your number is an even number\")\n",
    "else:\n",
    "    print(\"your number is an odd number\")"
   ]
  },
  {
   "cell_type": "code",
   "execution_count": null,
   "id": "02ab7cb8-2b8b-4ded-bf9d-181d52acfd83",
   "metadata": {},
   "outputs": [],
   "source": []
  },
  {
   "cell_type": "code",
   "execution_count": null,
   "id": "7abf16b0-af75-4896-83e6-fce09bd300aa",
   "metadata": {},
   "outputs": [],
   "source": []
  }
 ],
 "metadata": {
  "kernelspec": {
   "display_name": "Python 3 (ipykernel)",
   "language": "python",
   "name": "python3"
  },
  "language_info": {
   "codemirror_mode": {
    "name": "ipython",
    "version": 3
   },
   "file_extension": ".py",
   "mimetype": "text/x-python",
   "name": "python",
   "nbconvert_exporter": "python",
   "pygments_lexer": "ipython3",
   "version": "3.9.12"
  }
 },
 "nbformat": 4,
 "nbformat_minor": 5
}
