{
 "cells": [
  {
   "attachments": {},
   "cell_type": "markdown",
   "id": "1f61ec77",
   "metadata": {},
   "source": []
  },
  {
   "cell_type": "markdown",
   "id": "93ed7ced",
   "metadata": {},
   "source": [
    "İlk aşamada korelasyon ile ilişki incelemesi yapılır.\n",
    "İkinci aşamada aralarında bağımlı ve bağımsız değişkenler belirlenip matematiksel denklem yazılır (regresyon)"
   ]
  },
  {
   "cell_type": "markdown",
   "id": "0c8a9a12",
   "metadata": {},
   "source": [
    "korelasyonda birlikte değişkenlik gösterseler de birbirlerine etkisi olup olmadığını bilmiyoruz. regresyonda ise bu etki etme olayını hesaplıyoruz"
   ]
  },
  {
   "cell_type": "code",
   "execution_count": null,
   "id": "5a8ae5f3",
   "metadata": {},
   "outputs": [],
   "source": []
  }
 ],
 "metadata": {
  "kernelspec": {
   "display_name": "Python 3 (ipykernel)",
   "language": "python",
   "name": "python3"
  },
  "language_info": {
   "codemirror_mode": {
    "name": "ipython",
    "version": 3
   },
   "file_extension": ".py",
   "mimetype": "text/x-python",
   "name": "python",
   "nbconvert_exporter": "python",
   "pygments_lexer": "ipython3",
   "version": "3.9.12"
  }
 },
 "nbformat": 4,
 "nbformat_minor": 5
}
