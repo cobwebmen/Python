{
 "cells": [
  {
   "cell_type": "code",
   "execution_count": 4,
   "id": "fc1b3b0b-7660-4213-abb3-8918a5f9999d",
   "metadata": {},
   "outputs": [
    {
     "name": "stdout",
     "output_type": "stream",
     "text": [
      "welcome to the rollercoaster\n"
     ]
    },
    {
     "name": "stdin",
     "output_type": "stream",
     "text": [
      "what is your height in cm? 120\n"
     ]
    },
    {
     "name": "stdout",
     "output_type": "stream",
     "text": [
      "you can ride a rollercoaster\n"
     ]
    },
    {
     "name": "stdin",
     "output_type": "stream",
     "text": [
      "what is your age? 8\n"
     ]
    },
    {
     "name": "stdout",
     "output_type": "stream",
     "text": [
      "Please, pay $5\n"
     ]
    }
   ],
   "source": [
    "print (\"welcome to the rollercoaster\")\n",
    "\n",
    "height = int(input(\"what is your height in cm?\"))\n",
    "\n",
    "\n",
    "if height >= 120 :\n",
    "    print (\"you can ride a rollercoaster\")\n",
    "    age = int(input(\"what is your age?\"))\n",
    "    if age >= 18:\n",
    "        print (\"Please, pay $12\")\n",
    "    elif age <= 12:\n",
    "        print (\"Please, pay $5\")\n",
    "    else:\n",
    "        print (\"Please, pay $7\")\n",
    "else:\n",
    "    print(\"you are not suitable for rollercoaster\")\n",
    "    "
   ]
  },
  {
   "cell_type": "code",
   "execution_count": null,
   "id": "ad061cec-355a-466b-b60c-28e6346ba1f3",
   "metadata": {},
   "outputs": [],
   "source": []
  }
 ],
 "metadata": {
  "kernelspec": {
   "display_name": "Python 3 (ipykernel)",
   "language": "python",
   "name": "python3"
  },
  "language_info": {
   "codemirror_mode": {
    "name": "ipython",
    "version": 3
   },
   "file_extension": ".py",
   "mimetype": "text/x-python",
   "name": "python",
   "nbconvert_exporter": "python",
   "pygments_lexer": "ipython3",
   "version": "3.9.12"
  }
 },
 "nbformat": 4,
 "nbformat_minor": 5
}
