{
 "cells": [
  {
   "cell_type": "code",
   "execution_count": null,
   "id": "eab97355-7c56-4282-b77a-3b47883c33dc",
   "metadata": {},
   "outputs": [
    {
     "name": "stdout",
     "output_type": "stream",
     "text": [
      "Thank you for choosing Python Pizza Deliveries!\n"
     ]
    }
   ],
   "source": [
    "#Based on a user's order, work out their final bill.\n",
    "\n",
    "#Small pizza (S): $15\n",
    "\n",
    "#Medium pizza (M): $20\n",
    "\n",
    "#Large pizza (L): $25\n",
    "\n",
    "# Add pepperoni for small pizza (Y or N): +$2\n",
    "\n",
    "# Add pepperoni for medium or large pizza (Y or N): +$3\n",
    "\n",
    "# Add extra cheese for any size pizza (Y or N): +$1\n",
    "\n",
    "# Example Input\n",
    "# L\n",
    "# Y\n",
    "# N\n",
    "# Example Output\n",
    "# Thank you for choosing Python Pizza Deliveries!\n",
    "# Your final bill is: $28.\n",
    "\n",
    "\n",
    "\n",
    "\n",
    "print(\"Thank you for choosing Python Pizza Deliveries!\")\n",
    "size = input()  # What size pizza do you want? \"S\", \"M\", or \"L\"\n",
    "add_pepperoni = input()  # Do you want pepperoni? \"Y\" or \"N\"\n",
    "extra_cheese = input()  # Do you want extra cheese? \"Y\" or \"N\"\n",
    "\n",
    "\n",
    "bill = 0\n",
    "if size == \"S\":\n",
    "  bill += 15\n",
    "elif size == \"M\":\n",
    "  bill += 20\n",
    "else:\n",
    "  bill += 25\n",
    "\n",
    "if add_pepperoni == \"Y\":\n",
    "  if size == \"S\":\n",
    "    bill += 2\n",
    "  else:\n",
    "    bill += 3\n",
    "\n",
    "if extra_cheese == \"Y\":\n",
    "  bill += 1\n",
    "\n",
    "print(f\"Your final bill is: ${bill}.\")"
   ]
  },
  {
   "cell_type": "code",
   "execution_count": null,
   "id": "6f3092f5-9b57-4478-bb6e-2881a1cde678",
   "metadata": {},
   "outputs": [],
   "source": []
  }
 ],
 "metadata": {
  "kernelspec": {
   "display_name": "Python 3 (ipykernel)",
   "language": "python",
   "name": "python3"
  },
  "language_info": {
   "codemirror_mode": {
    "name": "ipython",
    "version": 3
   },
   "file_extension": ".py",
   "mimetype": "text/x-python",
   "name": "python",
   "nbconvert_exporter": "python",
   "pygments_lexer": "ipython3",
   "version": "3.9.12"
  }
 },
 "nbformat": 4,
 "nbformat_minor": 5
}
