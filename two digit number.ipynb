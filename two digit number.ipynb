{
 "cells": [
  {
   "cell_type": "code",
   "execution_count": null,
   "id": "5f42dfa3-d5ea-4902-b8c1-6ae52f35d27f",
   "metadata": {},
   "outputs": [],
   "source": [
    "two_digit = input()\n",
    "first = two_digit[0]\n",
    "second = two_digit[1]\n",
    "first_convert = int(first)\n",
    "second_convert = int(second)\n",
    "two_digit = first_convert + second_convert\n",
    "print (two_digit)"
   ]
  }
 ],
 "metadata": {
  "kernelspec": {
   "display_name": "Python 3 (ipykernel)",
   "language": "python",
   "name": "python3"
  },
  "language_info": {
   "codemirror_mode": {
    "name": "ipython",
    "version": 3
   },
   "file_extension": ".py",
   "mimetype": "text/x-python",
   "name": "python",
   "nbconvert_exporter": "python",
   "pygments_lexer": "ipython3",
   "version": "3.9.12"
  }
 },
 "nbformat": 4,
 "nbformat_minor": 5
}
