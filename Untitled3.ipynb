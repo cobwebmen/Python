{
 "cells": [
  {
   "cell_type": "code",
   "execution_count": 1,
   "id": "a8994c8c-46d4-46ac-b647-4335266cc1d3",
   "metadata": {},
   "outputs": [
    {
     "name": "stdout",
     "output_type": "stream",
     "text": [
      "hello\n"
     ]
    }
   ],
   "source": [
    "print(\"hello\")"
   ]
  },
  {
   "cell_type": "code",
   "execution_count": 10,
   "id": "b6ad9bfe-4701-4fcc-921e-3db2c9476451",
   "metadata": {},
   "outputs": [
    {
     "name": "stdin",
     "output_type": "stream",
     "text": [
      "what abc abc\n"
     ]
    },
    {
     "data": {
      "text/plain": [
       "3"
      ]
     },
     "execution_count": 10,
     "metadata": {},
     "output_type": "execute_result"
    }
   ],
   "source": [
    "(((len(input(\"what abc\")))))"
   ]
  },
  {
   "cell_type": "code",
   "execution_count": 18,
   "id": "5366a187-d55a-4389-be92-16018b4bcd03",
   "metadata": {},
   "outputs": [
    {
     "name": "stdin",
     "output_type": "stream",
     "text": [
      "whta is your name mehmet\n"
     ]
    },
    {
     "name": "stdout",
     "output_type": "stream",
     "text": [
      "your name has 6 char\n"
     ]
    }
   ],
   "source": [
    "name = str(len(input(\"whta is your name\")))\n",
    "print (\"your name has \"+name+ \" char\")"
   ]
  },
  {
   "cell_type": "code",
   "execution_count": 24,
   "id": "017f916f-7a80-4a87-a9c0-ce50c02aa210",
   "metadata": {},
   "outputs": [
    {
     "name": "stdin",
     "output_type": "stream",
     "text": [
      " 46\n"
     ]
    },
    {
     "name": "stdout",
     "output_type": "stream",
     "text": [
      "10\n"
     ]
    }
   ],
   "source": [
    "two_digit = input()\n",
    "first = two_digit[0]\n",
    "second = two_digit[1]\n",
    "first_convert = int(first)\n",
    "second_convert = int(second)\n",
    "two_digit = first_convert + second_convert\n",
    "print (two_digit)"
   ]
  },
  {
   "cell_type": "code",
   "execution_count": null,
   "id": "2804b442-da0f-40cf-b92f-c86c0945405f",
   "metadata": {},
   "outputs": [],
   "source": []
  },
  {
   "cell_type": "code",
   "execution_count": 41,
   "id": "a510f2eb-c3a1-4bcb-b4a4-6e1697161e69",
   "metadata": {},
   "outputs": [
    {
     "name": "stdin",
     "output_type": "stream",
     "text": [
      " 92\n",
      " 1.85\n"
     ]
    },
    {
     "name": "stdout",
     "output_type": "stream",
     "text": [
      "your body index is 26.88\n"
     ]
    }
   ],
   "source": [
    "w=int(input())\n",
    "h=float(input())\n",
    "bmi =round( w/(h*h), 2)\n",
    "\n",
    "#print(\"your body index is \" + str(bmi))\n",
    "print(f\"your body index is {bmi}\")\n"
   ]
  },
  {
   "cell_type": "code",
   "execution_count": 21,
   "id": "5600e1ae-94b2-4cb1-b55f-0838f05a82ee",
   "metadata": {},
   "outputs": [],
   "source": []
  },
  {
   "cell_type": "code",
   "execution_count": null,
   "id": "dac2a459-8beb-44bd-bdbc-602673fe6d57",
   "metadata": {},
   "outputs": [],
   "source": []
  }
 ],
 "metadata": {
  "kernelspec": {
   "display_name": "Python 3 (ipykernel)",
   "language": "python",
   "name": "python3"
  },
  "language_info": {
   "codemirror_mode": {
    "name": "ipython",
    "version": 3
   },
   "file_extension": ".py",
   "mimetype": "text/x-python",
   "name": "python",
   "nbconvert_exporter": "python",
   "pygments_lexer": "ipython3",
   "version": "3.9.12"
  }
 },
 "nbformat": 4,
 "nbformat_minor": 5
}
